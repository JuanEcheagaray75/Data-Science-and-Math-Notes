{
 "cells": [
  {
   "cell_type": "code",
   "execution_count": 8,
   "metadata": {},
   "outputs": [],
   "source": [
    "import numpy as np\n",
    "import random as rn\n",
    "import os\n",
    "\n",
    "np.random.seed(7501)\n",
    "rn.seed(7501)"
   ]
  },
  {
   "cell_type": "code",
   "execution_count": 11,
   "metadata": {},
   "outputs": [],
   "source": [
    "lr = 0.1\n",
    "bias = 1\n",
    "weights = np.random.rand(2)\n",
    "# Append bias to weights\n",
    "weights = np.append(weights, bias)"
   ]
  },
  {
   "cell_type": "code",
   "execution_count": 12,
   "metadata": {},
   "outputs": [],
   "source": [
    "def perceptron(inputs, weights):\n",
    "    outputP = np.dot(inputs, weights)\n",
    "\n",
    "    if outputP > 0:\n",
    "        output = 1\n",
    "    else:\n",
    "        output = 0\n",
    "    \n",
    "    error = output - outputP\n",
    "    weights += lr * error * inputs"
   ]
  },
  {
   "cell_type": "code",
   "execution_count": null,
   "metadata": {},
   "outputs": [],
   "source": []
  }
 ],
 "metadata": {
  "kernelspec": {
   "display_name": "Python 3.10.4 ('.venv': venv)",
   "language": "python",
   "name": "python3"
  },
  "language_info": {
   "codemirror_mode": {
    "name": "ipython",
    "version": 3
   },
   "file_extension": ".py",
   "mimetype": "text/x-python",
   "name": "python",
   "nbconvert_exporter": "python",
   "pygments_lexer": "ipython3",
   "version": "3.10.4"
  },
  "orig_nbformat": 4,
  "vscode": {
   "interpreter": {
    "hash": "dfc53cbc549bbe5df12e31875cb8b06ed42c75d03701f051d739bd9155d612d6"
   }
  }
 },
 "nbformat": 4,
 "nbformat_minor": 2
}
