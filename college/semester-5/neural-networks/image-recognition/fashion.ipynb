{
 "cells": [
  {
   "cell_type": "markdown",
   "metadata": {},
   "source": [
    "# Análisis de imágenes de artículos de vestir con Aprendizaje Profundo\n",
    "\n",
    "- Diseño de redes neuronales y aprendizaje profundo\n",
    "- TC2035.102\n",
    "- Juan Pablo Echeagaray González\n",
    "- A00830646\n",
    "- 11 de agosto del 2022"
   ]
  },
  {
   "cell_type": "markdown",
   "metadata": {},
   "source": []
  }
 ],
 "metadata": {
  "language_info": {
   "name": "python"
  },
  "orig_nbformat": 4
 },
 "nbformat": 4,
 "nbformat_minor": 2
}
