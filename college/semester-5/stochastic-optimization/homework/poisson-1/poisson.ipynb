{
 "cells": [
  {
   "cell_type": "markdown",
   "metadata": {},
   "source": [
    "# Actividad: Distribución de Poisson\n",
    "\n",
    "- Juan Pablo Echeagaray González\n",
    "- A00830646\n",
    "- Optimización Estocástica\n",
    "- Dr. Fernando Elizalde Ramírez\n",
    "- 21 de agosto del 2022"
   ]
  },
  {
   "cell_type": "code",
   "execution_count": 7,
   "metadata": {},
   "outputs": [],
   "source": [
    "from scipy.stats import poisson\n"
   ]
  },
  {
   "cell_type": "markdown",
   "metadata": {},
   "source": [
    "## Problema 1\n",
    "\n",
    "Suponga que X tiene una distribución de Poisson con media 4. Calcule las posibilidades siguientes:\n",
    "\n",
    "1. $P(X = 0)$\n",
    "2. $P(X ≤ 2)$\n",
    "3. $P(X = 4)$\n",
    "4. $P(X = 8)$"
   ]
  },
  {
   "cell_type": "code",
   "execution_count": 8,
   "metadata": {},
   "outputs": [
    {
     "name": "stdout",
     "output_type": "stream",
     "text": [
      "Probabilidades:\n",
      "    P(X=0) = 0.01831563888873418\n",
      "    P(X<=2) = 0.23810330555354436\n",
      "    P(X=4) = 0.19536681481316454\n",
      "    P(X=8) = 0.029770181304863145\n"
     ]
    }
   ],
   "source": [
    "def problema_1():\n",
    "    mu = 4\n",
    "\n",
    "    p_0 = poisson.pmf(0, mu)\n",
    "    p_2_cum = poisson.cdf(2, mu)\n",
    "    p_4 = poisson.pmf(4, mu)\n",
    "    p_8 = poisson.pmf(8, mu)\n",
    "\n",
    "    print(f'''Probabilidades:\n",
    "    P(X=0) = {p_0}\n",
    "    P(X<=2) = {p_2_cum}\n",
    "    P(X=4) = {p_4}\n",
    "    P(X=8) = {p_8}''')\n",
    "\n",
    "problema_1()"
   ]
  },
  {
   "cell_type": "markdown",
   "metadata": {},
   "source": [
    "## Problema 2\n",
    "\n",
    "Se supone que el n ́umero de defectos en los rollos de tela de cierta industria textil es una variable aleatoria de Poisson con una media de 0.1 defectos por metro cuadrado.\n",
    "\n",
    "1. ¿cuál es la probabilidad de tener dos defectos en un metro cuadrado de tela?\n",
    "2. ¿cuál es la probabilidad de tener un defecto en 10 metros cuadrados de tela?\n",
    "3. ¿cuál es la probabilidad de no tener defectos en 20 metros cuadrados de tela?\n",
    "4. ¿cuál es la probabilidad de tener al menos dos defectos en un metro cuadrado de tela?\n"
   ]
  },
  {
   "cell_type": "code",
   "execution_count": 10,
   "metadata": {},
   "outputs": [
    {
     "name": "stdout",
     "output_type": "stream",
     "text": [
      "Probabilidades:\n",
      "    P(X=2) = 0.004524187090179801\n",
      "    P(X=10) = 0.36787944117144233\n",
      "    P(X=0) = 0.1353352832366127\n",
      "    P(X >= 2) = 0.00015465307026463204\n"
     ]
    }
   ],
   "source": [
    "def problema_2():\n",
    "    # Media de defectos en 1 metro cuadrado\n",
    "    mu = 0.1\n",
    "    \n",
    "    # Probabilidad de tener 2 efectos en un metro cuadrado de tela\n",
    "    p_2 = poisson.pmf(2, mu)\n",
    "    # Probabilidad de tener un defecto en 10 metros cuadrados de tela\n",
    "    p_10 = poisson.pmf(1, mu * 10)\n",
    "    # Probabilidad de no tener defectos en 20 metros cuadrados de tela\n",
    "    p_0 = poisson.pmf(0, mu * 20)\n",
    "    # Probabilidad de tener al menos 2 defectos en un metro cuadrado de tela\n",
    "    p_2_cum = 1 - poisson.cdf(2, mu)\n",
    "\n",
    "    print(f'''Probabilidades:\n",
    "    P(X=2) = {p_2}\n",
    "    P(X=10) = {p_10}\n",
    "    P(X=0) = {p_0}\n",
    "    P(X >= 2) = {p_2_cum}''')\n",
    "\n",
    "problema_2()"
   ]
  }
 ],
 "metadata": {
  "kernelspec": {
   "display_name": "Python 3.10.4 64-bit",
   "language": "python",
   "name": "python3"
  },
  "language_info": {
   "codemirror_mode": {
    "name": "ipython",
    "version": 3
   },
   "file_extension": ".py",
   "mimetype": "text/x-python",
   "name": "python",
   "nbconvert_exporter": "python",
   "pygments_lexer": "ipython3",
   "version": "3.10.4"
  },
  "orig_nbformat": 4,
  "vscode": {
   "interpreter": {
    "hash": "916dbcbb3f70747c44a77c7bcd40155683ae19c65e1c03b4aa3499c5328201f1"
   }
  }
 },
 "nbformat": 4,
 "nbformat_minor": 2
}
