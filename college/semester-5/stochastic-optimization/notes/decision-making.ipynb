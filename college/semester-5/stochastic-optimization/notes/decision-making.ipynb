{
 "cells": [
  {
   "cell_type": "markdown",
   "metadata": {},
   "source": [
    "# Toma de decisiones\n",
    "\n",
    "- Optimización estocástica\n",
    "- Profesor: Fernando Elizalde Ramírez\n",
    "- Juan Pablo Echeagaray González\n",
    "- A00830646\n",
    "- 16 de agosto del 2022"
   ]
  },
  {
   "cell_type": "code",
   "execution_count": 12,
   "metadata": {},
   "outputs": [],
   "source": [
    "import numpy as np"
   ]
  },
  {
   "cell_type": "markdown",
   "metadata": {},
   "source": [
    "## Criterios de decisión"
   ]
  },
  {
   "cell_type": "code",
   "execution_count": 13,
   "metadata": {},
   "outputs": [],
   "source": [
    "def print_result(result: tuple) -> None:\n",
    "    return f'Take a_{result[0]} with value {result[1]}'"
   ]
  },
  {
   "cell_type": "code",
   "execution_count": 14,
   "metadata": {},
   "outputs": [],
   "source": [
    "def expected_value(decision_matrix: np.array, prob: np.array) -> np.array:\n",
    "    \"\"\"Cálculo de valores esperados dada una matriz de riesgo y un vector de probabilidades\n",
    "\n",
    "    Args:\n",
    "        - decision_matrix (np.array): Matriz en la que las entradas M_ij representan la ganancia/beneficio de la alternativa i para el estado j\n",
    "        - prob (np.array): Vector de probabilidades para cada uno de los estados\n",
    "\n",
    "    Raises:\n",
    "        - ValueError: El vector de probabilidades contiene entradas menores a 0\n",
    "        - ValueError: La s ValueError('Probabilities do not add to one')\n",
    "uma de las entradas del vector de probabilidades no suma 1\n",
    "\n",
    "    Returns:\n",
    "        - np.array: Vector conteniendo el valor esperado de cada acción\n",
    "    \"\"\"\n",
    "\n",
    "    if np.any(prob < 0):\n",
    "        raise ValueError('Probability vector contains negative values')\n",
    "\n",
    "    elif not np.isclose(np.sum(prob),1):\n",
    "        raise ValueError('Probabilities do not add to one')\n",
    "\n",
    "    expected = np.matmul(decision_matrix, prob)\n",
    "\n",
    "    return expected"
   ]
  },
  {
   "cell_type": "code",
   "execution_count": 15,
   "metadata": {},
   "outputs": [],
   "source": [
    "def wald_decision(retribution_matrix: np.array, mode: str) -> tuple:\n",
    "    \"\"\"Aplicación del criterio de Wald (minimax, maximin)\n",
    "\n",
    "    Args:\n",
    "        - retribution_matrix (np.array): Matriz de retribuciones\n",
    "        - mode (str): 'min', 'max'\n",
    "\n",
    "    Raises:\n",
    "        - ValueError: El modo debe de ser minimizar o maximizar\n",
    "\n",
    "    Returns:\n",
    "        - tuple: Acción a tomar, Valor esperado de la acción tomada\n",
    "    \"\"\"    \n",
    "    action = None\n",
    "\n",
    "    # If the retribution matrix represents profits apply maximin\n",
    "    if mode == 'max':\n",
    "        vals = np.min(retribution_matrix, axis=1)\n",
    "        action = np.argmax(vals)\n",
    "    \n",
    "    # If the retribution matrix represents loss, apply minimax\n",
    "    elif mode == 'min':\n",
    "        vals = np.max(retribution_matrix, axis=1)\n",
    "        action = np.argmin(vals)\n",
    "\n",
    "    else:\n",
    "        raise ValueError('Mode has to either be min or max')\n",
    "\n",
    "    return action + 1, vals[action]"
   ]
  },
  {
   "cell_type": "code",
   "execution_count": 16,
   "metadata": {},
   "outputs": [],
   "source": [
    "def optimistic(retribution_matrix: np.array, mode: str) -> tuple:\n",
    "    \"\"\"Aplicación del criterio optimista (maximax, minimin)\n",
    "\n",
    "    Args:\n",
    "        - retribution_matrix (np.array): Matriz de retribución\n",
    "        - mode (str): 'min', 'max'\n",
    "\n",
    "    Raises:\n",
    "        - ValueError: El modo debe de ser minimizar o maximizar\n",
    "\n",
    "    Returns:\n",
    "        - tuple: Acción a tomar, Valor esperado de la acción tomada\n",
    "    \"\"\"    \n",
    "    action = None\n",
    "\n",
    "    if mode == 'max':\n",
    "        vals = np.max(retribution_matrix, axis=1)\n",
    "        action = np.argmax(vals)\n",
    "\n",
    "    elif mode == 'min':\n",
    "        vals = np.min(retribution_matrix, axis=1)\n",
    "        action = np.argmin(vals)\n",
    "\n",
    "    else:\n",
    "        raise ValueError('Mode has to either be min or max')\n",
    "\n",
    "    return action + 1, vals[action]"
   ]
  },
  {
   "cell_type": "code",
   "execution_count": 17,
   "metadata": {},
   "outputs": [],
   "source": [
    "def savage_decision(retribution_matrix: np.array, mode: str, cost_of_opportunity:bool = False) -> tuple:\n",
    "    \"\"\"Aplicación del criterio de Savage\n",
    "\n",
    "    Args:\n",
    "        - retribution_matrix (np.array): Matriz de retribución\n",
    "        - mode (str): Modo de operación, 'min', 'max'\n",
    "        - cost_of_opportunity (bool, optional): Si se debe de regresar el valor del costo de oportunidad. Defaults to False.\n",
    "\n",
    "    Raises:\n",
    "        - ValueError: El modo de operación debe de ser 'min' o 'max'\n",
    "\n",
    "    Returns:\n",
    "        - tuple: Acción a tomar, Valor esperado de la acción a tomar, Coste de oportunidad\n",
    "    \"\"\"    \n",
    "    action, value = None, None\n",
    "    \n",
    "    # If the retribution matrix represents profits\n",
    "    if mode == 'max':\n",
    "        loss_matrix = np.max(retribution_matrix, axis=0) - retribution_matrix\n",
    "        action, value = wald_decision(loss_matrix, 'min')\n",
    "\n",
    "    # If the retribution matrix represents loss\n",
    "    elif mode == 'min':\n",
    "        loss_matrix = retribution_matrix - np.min(retribution_matrix, axis=0)\n",
    "        action, value = wald_decision(loss_matrix, 'min')\n",
    "\n",
    "    else:\n",
    "        raise ValueError('Mode has to either be min or max')\n",
    "    \n",
    "    # No need to add 1 to the action since its done inside wald_decision\n",
    "    if cost_of_opportunity:\n",
    "        print(loss_matrix)\n",
    "        cost = np.min(np.sum(loss_matrix, axis=1))\n",
    "        return action, value, cost\n",
    "\n",
    "    return action, value"
   ]
  },
  {
   "cell_type": "code",
   "execution_count": 18,
   "metadata": {},
   "outputs": [],
   "source": [
    "def laplace_decision(retribution_matrix: np.array, mode: str) -> tuple:\n",
    "    \"\"\"Aplicación del criterio de LaPlace\n",
    "\n",
    "    Args:\n",
    "        - retribution_matrix (np.array): Matriz de retribución\n",
    "        - mode (str): Modo de operación, 'min', 'max'\n",
    "\n",
    "    Raises:\n",
    "        - ValueError: El modo de operación debe de ser 'min' o 'max'\n",
    "\n",
    "    Returns:\n",
    "        - tuple: Acción a tomar, Valor esperado de la acción a tomar\n",
    "    \"\"\"    \n",
    "    action = None\n",
    "    averages = np.average(retribution_matrix, axis=1)\n",
    "\n",
    "    if mode == 'max':\n",
    "        action = np.argmax(averages, axis=0)\n",
    "    \n",
    "    elif mode == 'min':\n",
    "        action = np.argmin(averages, axis=0)\n",
    "    \n",
    "    else:\n",
    "        raise ValueError('Mode has to either be min or max')\n",
    "\n",
    "    return action + 1, averages[action]"
   ]
  },
  {
   "cell_type": "markdown",
   "metadata": {},
   "source": [
    "## Problema 1\n",
    "\n",
    "National Outdoors School (NOS) está preparando un sitio para acampar en el verano en el corazón de Alaska para enseñar técnicas de supervivencia en áreas salvajes. NOS estima que la asistencia puede caer dentro de una de cuatro categorías: $200, 250, 300, 350$ personas. El costo del campamento será mínimo cuando su tamaño satisfaga la demanda con exactitud. Las desviaciones por encima y por debajo de los niveles de demanda ideales incurren en costos adicionales por construir más capacidad que la necesaria o por perder oportunidades de ingresos cuando la demanda no se satisface. Si $a_1$ a $a_4$ representan los tamaños de los campamentos ($200, 250, 300, 350$ personas) y $s_1 \\ldots s_4$ el nivel de asistencia, la siguiente tabla resume la matriz de costos (en miles de dólares) para la situación.\n",
    "\n",
    "$$\\begin{equation}\n",
    "    \\begin{bmatrix}\n",
    "        5 & 10 & 18 & 25 \\\\\n",
    "        8 & 7 & 12 & 23 \\\\\n",
    "        21 & 18 & 12 & 21 \\\\\n",
    "        30 & 22 & 19 & 15\n",
    "    \\end{bmatrix}\n",
    "\\end{equation}$$"
   ]
  },
  {
   "cell_type": "code",
   "execution_count": 19,
   "metadata": {},
   "outputs": [
    {
     "name": "stdout",
     "output_type": "stream",
     "text": [
      "Decisiones\n",
      "Laplace = Take a_2 with value 12.5\n",
      "Wald = Take a_3 with value 21\n",
      "Savage = Take a_2 with value 8\n"
     ]
    }
   ],
   "source": [
    "ret = np.array([[5, 10, 18, 25],\n",
    "                [8, 7, 12, 23],\n",
    "                [21, 18, 12, 21],\n",
    "                [30, 22, 19, 15]])\n",
    "\n",
    "print(f'''Decisiones\n",
    "Laplace = {print_result(laplace_decision(ret, 'min'))}\n",
    "Wald = {print_result(wald_decision(ret, 'min'))}\n",
    "Savage = {print_result(savage_decision(ret, 'min'))}''')"
   ]
  },
  {
   "cell_type": "markdown",
   "metadata": {},
   "source": [
    "## Problema 2"
   ]
  },
  {
   "cell_type": "markdown",
   "metadata": {},
   "source": [
    "Una empresa dedicada a la fabricación de calzado tiene que analizar entre diferentes estrategias de producción, aquella que le proporcione más ventas, y, en consecuencia, más beneficios. Los posibles productos son: botas, zapatos y sandalias.\n",
    "\n",
    "La decisión la debe tomar en función de las predicciones del tiempo que haga en los próximos meses, ya que esto determinará que se venda más un producto u otro. Los estados de la naturaleza previstos son tres: tiempo frío, normal y cálido.\n",
    "\n",
    "En el momento de tomar la decisión el empresario no sabe con seguridad el estado de tiempo, pero consultando los estados climáticos de los últimos años llega a las siguientes estimaciones en forma de probabilidad: existe un 30% de probabilidad de que el tiempo sea frío, un 45% de que sea normal, y un 25% de que sea cálido.\n",
    "\n",
    "Por otro lado, la experiencia en el sector le permite estimar los resultados esperados en cuanto a ventas, y esto le permite elaborar las siguientes predicciones o desenlaces:\n",
    "\n",
    "- La fabricación de botas le daría unos beneficios (en euros) de 60.000, 15.000 y 2.500, si el tiempo es frío, normal o cálido respectivamente.\n",
    "- La fabricación de zapatos le daría unos beneficios (en euros) de 5.000, 30.000 y 10.000, si el tiempo es frío, normal o cálido respectivamente.\n",
    "- La fabricación de sandalias le daría unos beneficios (en euros) de -5.000, 7.500 y 50.000, si el tiempo es frío, normal o cálido respectivamente.\n",
    "\n",
    "### Situación de riesgo\n",
    "\n",
    "- Elaborar la matriz de decisión.\n",
    "- Calcular los valores esperados de cada una de las estrategias."
   ]
  },
  {
   "cell_type": "code",
   "execution_count": 20,
   "metadata": {},
   "outputs": [
    {
     "name": "stdout",
     "output_type": "stream",
     "text": [
      "[[60000 15000  2500]\n",
      " [ 5000 30000 10000]\n",
      " [-5000  7500 50000]]\n",
      "VE(B, Z, S) = [25375. 17500. 14375.]\n"
     ]
    }
   ],
   "source": [
    "ret_2 = np.array([[60_000, 15_000, 2_500],\n",
    "                  [5_000, 30_000, 10_000],\n",
    "                  [-5_000, 7_500, 50_000]])\n",
    "prob = np.array([0.3, 0.45, 0.25])\n",
    "\n",
    "print(ret_2)\n",
    "\n",
    "print(f'VE(B, Z, S) = {expected_value(ret_2, prob)}')\n"
   ]
  },
  {
   "cell_type": "markdown",
   "metadata": {},
   "source": [
    "### Situación de incertidumbre\n",
    "\n",
    "- Opción elegida con criterio pesimista\n",
    "- Opción elegida con criterio optimista\n",
    "- Opción elegida según el criterio de LaPlace\n",
    "- Opción elegida con criterio de Savage"
   ]
  },
  {
   "cell_type": "code",
   "execution_count": 21,
   "metadata": {},
   "outputs": [
    {
     "name": "stdout",
     "output_type": "stream",
     "text": [
      "[[    0 15000 47500]\n",
      " [55000     0 40000]\n",
      " [65000 22500     0]]\n",
      "Opciones elegidas:\n",
      "Etiquetas: {'a1': 'botas', 'a2': 'zapatos', 'a3': 'sandalias'}\n",
      "Pesimista: Take a_2 with value 5000\n",
      "Optimista: Take a_1 with value 60000\n",
      "LaPlace: Take a_1 with value 25833.333333333332\n",
      "Savage: Take a_1 with opportunity loss of 62500\n"
     ]
    }
   ],
   "source": [
    "labels = {'a1': 'botas', 'a2': 'zapatos', 'a3': 'sandalias'}\n",
    "action, _, cost = savage_decision(ret_2, 'max', True)\n",
    "\n",
    "print(f'''Opciones elegidas:\n",
    "Etiquetas: {labels}\n",
    "Pesimista: {print_result(wald_decision(ret_2, 'max'))}\n",
    "Optimista: {print_result(optimistic(ret_2, 'max'))}\n",
    "LaPlace: {print_result(laplace_decision(ret_2, 'max'))}\n",
    "Savage: Take a_{action} with opportunity loss of {cost}''')\n"
   ]
  }
 ],
 "metadata": {
  "kernelspec": {
   "display_name": "Python 3.10.4 64-bit",
   "language": "python",
   "name": "python3"
  },
  "language_info": {
   "codemirror_mode": {
    "name": "ipython",
    "version": 3
   },
   "file_extension": ".py",
   "mimetype": "text/x-python",
   "name": "python",
   "nbconvert_exporter": "python",
   "pygments_lexer": "ipython3",
   "version": "3.10.4"
  },
  "orig_nbformat": 4,
  "vscode": {
   "interpreter": {
    "hash": "916dbcbb3f70747c44a77c7bcd40155683ae19c65e1c03b4aa3499c5328201f1"
   }
  }
 },
 "nbformat": 4,
 "nbformat_minor": 2
}
