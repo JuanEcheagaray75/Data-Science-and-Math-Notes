{
 "cells": [
  {
   "cell_type": "markdown",
   "metadata": {},
   "source": [
    "# The Knapsack problem\n",
    "\n",
    "- Juan Pablo Echeagaray González\n",
    "- A00830646\n",
    "- 22 de septiembre del 2022"
   ]
  },
  {
   "cell_type": "markdown",
   "metadata": {},
   "source": [
    "## Dependencias"
   ]
  },
  {
   "cell_type": "code",
   "execution_count": 1,
   "metadata": {},
   "outputs": [],
   "source": [
    "from ortools.algorithms import pywrapknapsack_solver\n",
    "from pathlib import Path\n",
    "import pandas as pd\n",
    "import matplotlib.pyplot as plt\n",
    "import seaborn as sns\n",
    "plt.style.use('ggplot')\n"
   ]
  },
  {
   "cell_type": "markdown",
   "metadata": {},
   "source": [
    "## Valores de prueba"
   ]
  },
  {
   "cell_type": "code",
   "execution_count": 2,
   "metadata": {},
   "outputs": [],
   "source": [
    "# Valores\n",
    "values = [4, 2, 10, 1, 2]\n",
    "weights = [[12, 1, 4, 1, 2]]\n",
    "capacity = [15]\n"
   ]
  },
  {
   "cell_type": "markdown",
   "metadata": {},
   "source": [
    "## Solución con Heurístico"
   ]
  },
  {
   "cell_type": "code",
   "execution_count": 3,
   "metadata": {},
   "outputs": [],
   "source": [
    "def heuristic_solver(values: list, weights: list, capacity: list, return_results: bool):\n",
    "    real_weights = weights[0]\n",
    "    importance = [v / w for v, w in zip(values, real_weights)]\n",
    "    added = []\n",
    "    cap = 0\n",
    "    while cap < capacity[0]:\n",
    "        max_index = importance.index(max(importance))\n",
    "        cap += real_weights[max_index]\n",
    "        if cap <= capacity[0]:\n",
    "            added.append(max_index)\n",
    "        importance[max_index] = 0\n",
    "\n",
    "    if return_results:\n",
    "        print(f\"Total value: {sum([values[i] for i in added])}\")\n",
    "        print(f\"Total weight: {sum([real_weights[i] for i in added])}\")\n",
    "        print(f\"Items added: {added}\")\n"
   ]
  },
  {
   "cell_type": "markdown",
   "metadata": {},
   "source": [
    "## Solución con solver"
   ]
  },
  {
   "cell_type": "code",
   "execution_count": 4,
   "metadata": {},
   "outputs": [],
   "source": [
    "def knapsack_solver(values: list, weights: list, capacity: list, solver_type: str, return_results: bool):\n",
    "    \n",
    "    if solver_type == 'SCIP-MIP':\n",
    "        solver = pywrapknapsack_solver.KnapsackSolver(\n",
    "            pywrapknapsack_solver.KnapsackSolver.KNAPSACK_MULTIDIMENSION_SCIP_MIP_SOLVER, 'Knapsack MIP')\n",
    "    elif solver_type == 'SCIP-BRANCH-AND-BOUND':\n",
    "        solver = pywrapknapsack_solver.KnapsackSolver(\n",
    "            pywrapknapsack_solver.KnapsackSolver.KNAPSACK_MULTIDIMENSION_BRANCH_AND_BOUND_SOLVER, 'Knapsack B&B')\n",
    "    elif solver_type == 'DYNAMIC-PROGRAMMING':\n",
    "        solver = pywrapknapsack_solver.KnapsackSolver(\n",
    "            pywrapknapsack_solver.KnapsackSolver.KNAPSACK_DYNAMIC_PROGRAMMING_SOLVER, 'Knapsack DP')\n",
    "    elif solver_type == 'DIVIDE-AND-CONQUER':\n",
    "        solver = pywrapknapsack_solver.KnapsackSolver(\n",
    "            pywrapknapsack_solver.KnapsackSolver.KNAPSACK_DIVIDE_AND_CONQUER_SOLVER, 'Knapsack DC')\n",
    "    elif solver_type == 'BRUTE-FORCE':\n",
    "        solver = pywrapknapsack_solver.KnapsackSolver(\n",
    "            pywrapknapsack_solver.KnapsackSolver.KNAPSACK_BRUTE_FORCE_SOLVER, 'Knapsack BF')\n",
    "    elif solver_type == '64-ITEMS':\n",
    "        solver = pywrapknapsack_solver.KnapsackSolver(\n",
    "            pywrapknapsack_solver.KnapsackSolver.KNAPSACK_64ITEMS_SOLVER, 'Knapsack 64')\n",
    "\n",
    "\n",
    "    solver.Init(values, weights, capacity)\n",
    "    computed_value = solver.Solve()\n",
    "    packed_items = []\n",
    "    packed_weights = []\n",
    "    total_weight = 0\n",
    "\n",
    "    for i in range(len(values)):\n",
    "        if solver.BestSolutionContains(i):\n",
    "            packed_items.append(i)\n",
    "            packed_weights.append(weights[0][i])\n",
    "            total_weight += weights[0][i]\n",
    "\n",
    "    if return_results:\n",
    "        print('Total value =', computed_value)\n",
    "        print('Packed items:', packed_items)\n",
    "        print('Packed_weights:', packed_weights)\n",
    "        print('Total weight:', total_weight)\n"
   ]
  },
  {
   "cell_type": "markdown",
   "metadata": {},
   "source": [
    "## Comparación de soluciones"
   ]
  },
  {
   "cell_type": "code",
   "execution_count": 5,
   "metadata": {},
   "outputs": [],
   "source": [
    "def test_time():\n",
    "    pos_solvers = ['SCIP-MIP', 'SCIP-BRANCH-AND-BOUND', 'DYNAMIC-PROGRAMMING', 'DIVIDE-AND-CONQUER', 'BRUTE-FORCE', '64-ITEMS', 'HEURISTIC']\n",
    "    results = pd.DataFrame(columns=['Solver', 'Time'])\n",
    "\n",
    "    for solver in pos_solvers:\n",
    "        if solver == 'HEURISTIC':\n",
    "            time = %timeit -n 1000 -r 10 -o heuristic_solver(values, weights, capacity, return_results=False)\n",
    "        else:\n",
    "            time = %timeit -n 1000 -r 10 -o knapsack_solver(values, weights, capacity, solver, return_results=False)\n",
    "        results = pd.concat([results, pd.DataFrame({'Solver': solver, 'Time': time.all_runs})], ignore_index=True)\n",
    "\n",
    "    return results\n",
    "    "
   ]
  },
  {
   "cell_type": "markdown",
   "metadata": {},
   "source": [
    "## Visualización de resultados"
   ]
  },
  {
   "cell_type": "code",
   "execution_count": 6,
   "metadata": {},
   "outputs": [
    {
     "name": "stdout",
     "output_type": "stream",
     "text": [
      "3.52 ms ± 129 µs per loop (mean ± std. dev. of 10 runs, 1000 loops each)\n",
      "5.62 µs ± 387 ns per loop (mean ± std. dev. of 10 runs, 1000 loops each)\n",
      "5.18 µs ± 541 ns per loop (mean ± std. dev. of 10 runs, 1000 loops each)\n",
      "5.18 µs ± 552 ns per loop (mean ± std. dev. of 10 runs, 1000 loops each)\n",
      "4.89 µs ± 653 ns per loop (mean ± std. dev. of 10 runs, 1000 loops each)\n",
      "6.39 µs ± 827 ns per loop (mean ± std. dev. of 10 runs, 1000 loops each)\n",
      "3.48 µs ± 568 ns per loop (mean ± std. dev. of 10 runs, 1000 loops each)\n"
     ]
    }
   ],
   "source": [
    "# Check if there exists already a file with the results\n",
    "if Path('results.csv').is_file():\n",
    "    results = pd.read_csv('results.csv')\n",
    "else:\n",
    "    times = test_time()\n",
    "    results = times.explode('Time')\n",
    "    results.to_csv('results.csv', index=False)\n"
   ]
  },
  {
   "cell_type": "code",
   "execution_count": 8,
   "metadata": {},
   "outputs": [
    {
     "data": {
      "image/png": "[encoded data removed]",
      "text/plain": [
       "<Figure size 1152x432 with 1 Axes>"
      ]
     },
     "metadata": {},
     "output_type": "display_data"
    }
   ],
   "source": [
    "# Drop rows with SCIP-MIPtimes = test_time()\n",
    "results = results[results.Solver != 'SCIP-MIP']\n",
    "\n",
    "plt.figure(figsize=(16, 6))\n",
    "sns.boxplot(x='Solver', y='Time', data=results)\n",
    "plt.xlabel('Solver')\n",
    "plt.ylabel('Time (ms)')\n",
    "plt.title('Tiempo de cómputo')\n",
    "plt.show()\n"
   ]
  },
  {
   "cell_type": "code",
   "execution_count": 9,
   "metadata": {},
   "outputs": [
    {
     "name": "stdout",
     "output_type": "stream",
     "text": [
      "Total value = 15\n",
      "Packed items: [1, 2, 3, 4]\n",
      "Packed_weights: [1, 4, 1, 2]\n",
      "Total weight: 8\n"
     ]
    }
   ],
   "source": [
    "knapsack_solver(values, weights, capacity, 'DYNAMIC-PROGRAMMING', return_results=True)\n"
   ]
  }
 ],
 "metadata": {
  "kernelspec": {
   "display_name": "Python 3.10.4 64-bit",
   "language": "python",
   "name": "python3"
  },
  "language_info": {
   "codemirror_mode": {
    "name": "ipython",
    "version": 3
   },
   "file_extension": ".py",
   "mimetype": "text/x-python",
   "name": "python",
   "nbconvert_exporter": "python",
   "pygments_lexer": "ipython3",
   "version": "3.10.4"
  },
  "orig_nbformat": 4,
  "vscode": {
   "interpreter": {
    "hash": "916dbcbb3f70747c44a77c7bcd40155683ae19c65e1c03b4aa3499c5328201f1"
   }
  }
 },
 "nbformat": 4,
 "nbformat_minor": 2
}
