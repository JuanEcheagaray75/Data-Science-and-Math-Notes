{
 "cells": [
  {
   "cell_type": "markdown",
   "metadata": {},
   "source": [
    "# Set Covering Problem\n",
    "\n",
    "- Juan Pablo Echeagaray González\n",
    "- A00830646\n",
    "- Diseño de algoritmos matemáticos bio-inspirados\n",
    "- 30 de septiembre del 2022"
   ]
  },
  {
   "cell_type": "code",
   "execution_count": 1,
   "metadata": {},
   "outputs": [],
   "source": [
    "from ortools.linear_solver import pywraplp\n",
    "import numpy as np"
   ]
  },
  {
   "cell_type": "markdown",
   "metadata": {},
   "source": [
    "## Modelación matemática\n",
    "\n",
    "Sean los conjuntos:\n",
    "$$\\begin{gather*}\n",
    "    M = \\{1, 2, \\ldots, m\\} \\\\\n",
    "    N = \\{1, 2, \\ldots, n\\}\n",
    "\\end{gather*}$$\n",
    "\n",
    "Sean los parámetros:\n",
    "$$\\begin{gather*}\n",
    "    c_j := \\text{costo de la instalación } j, \\forall j \\in N \\\\\n",
    "    a_{ij} := \\text{Si la región } i \\in M \\text{ puede ser atendida por el centro } j \\in N, \\forall i \\in M, \\forall j \\in N\n",
    "\\end{gather*}$$\n",
    "\n",
    "Sean las variables:\n",
    "$$\\begin{gather*}\n",
    "    x_j := \\text{Si se instala el centro } j, \\forall j \\in N\n",
    "\\end{gather*}$$\n",
    "\n",
    "Entonces:\n",
    "$$\\begin{equation*}\n",
    "\t\\begin{aligned}\n",
    "\t\t\\min \\quad & \\sum_{j \\in N} c_j x_j\\\\\n",
    "\t\t\\text{st: }\\quad &\n",
    "\t\t\\begin{array}{c}\n",
    "\t\t\t\\sum\\limits_{j \\in N} a_{ij} x_j \\geq 1, \\forall i \\in M \\\\\n",
    "            x_j \\in \\mathbb{B}, \\forall j \\in N\n",
    "\t\t\\end{array}\n",
    "\t\\end{aligned}\n",
    "\\end{equation*}$$"
   ]
  },
  {
   "cell_type": "markdown",
   "metadata": {},
   "source": [
    "## Datos del problema"
   ]
  },
  {
   "cell_type": "code",
   "execution_count": 2,
   "metadata": {},
   "outputs": [],
   "source": [
    "def create_data(heuristic: bool = False):\n",
    "    c = np.array([20, 10, 30, 25])\n",
    "    A = np.array([[0, 1, 1, 0],\n",
    "                [1, 1, 0, 1],\n",
    "                [1, 0, 1, 0],\n",
    "                [0, 1, 0, 1],\n",
    "                [1, 1, 0, 1]])\n",
    "    cities, centers = A.shape\n",
    "\n",
    "    if heuristic:\n",
    "        return c, A\n",
    "\n",
    "    return c, A, cities, centers\n"
   ]
  },
  {
   "cell_type": "markdown",
   "metadata": {},
   "source": [
    "## Aproximación por un método heurístico\n",
    "\n",
    "- **Idea**: Calcular relevancia de un centro como la proporción de su cobertura y el costo. Ir removiendo los centros abiertos, y detener el código cuando todas las ciudades hayan sido cubiertas.\n",
    "\n",
    "```text\n",
    "Algoritmo:\n",
    "init costos\n",
    "init A\n",
    "abiertos = []\n",
    "costs = []\n",
    "while True:\n",
    "    relevancias = relevancia(A, costos)\n",
    "    j = argmax(relevancias)\n",
    "    Remover ciudades cubiertas por j\n",
    "    Remover j de A, de costos\n",
    "    Agregar j a abiertos\n",
    "    Agregar costos[j] a costs\n",
    "\n",
    "    Si A ya no tiene filas:\n",
    "        break\n",
    "\n",
    "    return abiertos, costos * abiertos\n",
    "```"
   ]
  },
  {
   "cell_type": "code",
   "execution_count": 3,
   "metadata": {},
   "outputs": [],
   "source": [
    "def heuristic_approach(cost, A, res: bool = False):\n",
    "\n",
    "    open_centers = []\n",
    "    # Helper list to keep track of the opened centers (fuzzy logic)\n",
    "    costs = []\n",
    "\n",
    "    while True:\n",
    "        reach = np.sum(A, axis=0)\n",
    "        relevance = reach / cost\n",
    "\n",
    "        best_center = np.argmax(relevance)\n",
    "        open_centers.append(best_center)\n",
    "        costs.append(cost[best_center])\n",
    "\n",
    "        covered = np.where(A[:, best_center] == 1)[0]\n",
    "        A = np.delete(A, best_center, axis=1)\n",
    "        A = np.delete(A, covered, axis=0)\n",
    "        cost = np.delete(cost, best_center)\n",
    "\n",
    "        # If all cities are covered, stop\n",
    "        if A.shape[0] == 0:\n",
    "            break\n",
    "    \n",
    "    results = {'Z': np.sum(costs), 'centers': open_centers}\n",
    "\n",
    "    if res:\n",
    "        return results\n",
    "        "
   ]
  },
  {
   "cell_type": "code",
   "execution_count": 4,
   "metadata": {},
   "outputs": [
    {
     "data": {
      "text/plain": [
       "{'Z': 30, 'centers': [1, 0]}"
      ]
     },
     "execution_count": 4,
     "metadata": {},
     "output_type": "execute_result"
    }
   ],
   "source": [
    "heuristic_approach(*create_data(True), True)\n"
   ]
  },
  {
   "cell_type": "markdown",
   "metadata": {},
   "source": [
    "## Solución con `solver`"
   ]
  },
  {
   "cell_type": "code",
   "execution_count": 5,
   "metadata": {},
   "outputs": [],
   "source": [
    "def solver_solution(res: bool):\n",
    "    solver = pywraplp.Solver.CreateSolver('BOP')\n",
    "    costs, A, cities, centers = create_data()\n",
    "    \n",
    "    # Variables\n",
    "    # x[i] abrir centro i\n",
    "    x = [solver.BoolVar(f'x_{i}') for i in range(centers)]\n",
    "\n",
    "    # Constraints\n",
    "    for j in range(cities):\n",
    "        solver.Add(sum(A[j, i] * x[i] for i in range(centers)) >= 1)\n",
    "\n",
    "    # Objective Function\n",
    "    solver.Minimize(sum(x * costs))\n",
    "\n",
    "    status = solver.Solve()\n",
    "\n",
    "    if status == pywraplp.Solver.OPTIMAL and res:\n",
    "        return {'Z': solver.Objective().Value(), 'Centers': [i for i in range(centers) if x[i].solution_value() == 1]}\n",
    "        "
   ]
  },
  {
   "cell_type": "code",
   "execution_count": 6,
   "metadata": {},
   "outputs": [
    {
     "data": {
      "text/plain": [
       "{'Z': 30.0, 'Centers': [0, 1]}"
      ]
     },
     "execution_count": 6,
     "metadata": {},
     "output_type": "execute_result"
    }
   ],
   "source": [
    "solver_solution(True)\n"
   ]
  },
  {
   "cell_type": "markdown",
   "metadata": {},
   "source": [
    "## Comparación de tiempos de cómputo"
   ]
  },
  {
   "cell_type": "code",
   "execution_count": 7,
   "metadata": {},
   "outputs": [
    {
     "name": "stdout",
     "output_type": "stream",
     "text": [
      "131 µs ± 27.7 µs per loop (mean ± std. dev. of 10 runs, 1000 loops each)\n",
      "904 µs ± 68.2 µs per loop (mean ± std. dev. of 10 runs, 1000 loops each)\n"
     ]
    }
   ],
   "source": [
    "heuristic = %timeit -n 1000 -r 10 -o heuristic_approach(*create_data(True))\n",
    "solver = %timeit -n 1000 -r 10 -o solver_solution(False)"
   ]
  },
  {
   "cell_type": "markdown",
   "metadata": {},
   "source": [
    "De esta pequeña prueba, puedo ver que el desempeño del algoritmo heurístico que propongo es bastante buena. Al menos para un caso sencillo, logra llegar a la optimalidad en un tiempo de cómputo aproximadamente 1 orden de magnitud menor que el de un solver de talla comercial.\n",
    "\n",
    "El que en esta prueba el resultado obtenido haya sido el óptimo no es evidencia suficiente de que mi propuesta encuentre soluciones de alta calidad para casos más complicados. Tendría que hacer más pruebas con más problemas para ver si su desempeño es el suficiente como para ser aplicado en casos más complejos."
   ]
  }
 ],
 "metadata": {
  "kernelspec": {
   "display_name": "Python 3.10.4 64-bit",
   "language": "python",
   "name": "python3"
  },
  "language_info": {
   "codemirror_mode": {
    "name": "ipython",
    "version": 3
   },
   "file_extension": ".py",
   "mimetype": "text/x-python",
   "name": "python",
   "nbconvert_exporter": "python",
   "pygments_lexer": "ipython3",
   "version": "3.10.6"
  },
  "orig_nbformat": 4,
  "vscode": {
   "interpreter": {
    "hash": "31f2aee4e71d21fbe5cf8b01ff0e069b9275f58929596ceb00d14d90e3e16cd6"
   }
  }
 },
 "nbformat": 4,
 "nbformat_minor": 2
}
