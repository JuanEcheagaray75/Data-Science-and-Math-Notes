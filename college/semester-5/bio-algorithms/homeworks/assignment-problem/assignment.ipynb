{
 "cells": [
  {
   "cell_type": "markdown",
   "metadata": {},
   "source": [
    "# Problema de asignación\n",
    "\n",
    "> The problem instance has a number of agents and a number of tasks. Any agent can be assigned to perform any task, incurring some cost that may vary depending on the agent-task assignment. It is required to perform as many tasks as possible by assigning at most one agent to each task and at most one task to each agent, in such a way that the total cost of the assignment is minimized.\n",
    "\n",
    "$$\\begin{equation*}\n",
    "\t\\begin{aligned}\n",
    "\t\t\\min \\quad & \\sum_{j \\in J} \\sum_{i \\in I} c_{ij} x_{ij}\\\\\n",
    "\t\t\\text{st: }\\quad &\n",
    "\t\t\\begin{array}{c}\n",
    "\t\t\t\\sum\\limits_{j \\in J} x_{ij} \\leq 1 \\quad \\forall i \\in I \\\\[10pt]\n",
    "            \\sum\\limits_{i \\in I} x_{ij} = 1 \\quad \\forall j \\in J \\\\\n",
    "            x_{ij} \\in \\{0, 1\\}\n",
    "\t\t\\end{array}\n",
    "\t\\end{aligned}\n",
    "\\end{equation*}$$"
   ]
  },
  {
   "cell_type": "code",
   "execution_count": 1,
   "metadata": {},
   "outputs": [],
   "source": [
    "# Dependencies\n",
    "import ortools as OR\n",
    "from ortools.linear_solver import pywraplp\n",
    "import pandas as pd\n"
   ]
  },
  {
   "cell_type": "code",
   "execution_count": 2,
   "metadata": {},
   "outputs": [],
   "source": [
    "def assignment_problem(costs_matrix):\n",
    "    solver = pywraplp.Solver.CreateSolver('SCIP')\n",
    "    if not solver:\n",
    "        return 'Error while creating Solver'\n",
    "\n",
    "    # General data\n",
    "    num_workers = len(costs_matrix)\n",
    "    num_tasks = len(costs_matrix[0])\n",
    "\n",
    "    # Decision variables\n",
    "    # x[i, j] = 1 if worker i is assigned task j, 0 otherwise\n",
    "    x = {}\n",
    "    for i in range(num_workers):\n",
    "        for j in range(num_tasks):\n",
    "            x[i,j] = solver.IntVar(0, 1, '')\n",
    "\n",
    "    # Restrictions\n",
    "    # Each worker is assigned at most 1 task\n",
    "    for i in range(num_workers):\n",
    "        solver.Add(solver.Sum([x[i, j] for j in range(num_tasks)]) <= 1)\n",
    "\n",
    "    # Each task is assigned to exactly 1 worker\n",
    "    for j in range(num_tasks):\n",
    "        solver.Add(solver.Sum([x[i, j] for i in range(num_workers)]) == 1)\n",
    "    \n",
    "    # Objective function\n",
    "    objective_terms = []\n",
    "    for i in range(num_workers):\n",
    "        for j in range(num_tasks):\n",
    "            objective_terms.append(costs_matrix[i][j] * x[i,j])\n",
    "\n",
    "    solver.Minimize(solver.Sum(objective_terms))\n",
    "\n",
    "    # Solve\n",
    "    status = solver.Solve()\n",
    "    \n",
    "    def print_solution():\n",
    "        if status == pywraplp.Solver.OPTIMAL or status == pywraplp.Solver.FEASIBLE:\n",
    "            print(f'Total cost = {solver.Objective().Value()}')\n",
    "            print('--------------')\n",
    "            for i in range(num_workers):\n",
    "                for j in range(num_tasks):\n",
    "                    # Test if x[i,j] is 1 (with tolerance for floating point arithmetic).\n",
    "                    if x[i, j].solution_value() > 0.5:\n",
    "                        print(f'Worker {i} assigned to task {j}.' +\n",
    "                            f' Cost: {costs_matrix[i][j]}')\n",
    "\n",
    "            print('--------------')\n",
    "            print(f'Solved in {solver.wall_time()} milliseconds')\n",
    "            print(f'Solved in {solver.iterations()} iterations')\n",
    "            print(f'Solved in {solver.nodes()} branch-and-bound nodes')\n",
    "\n",
    "        else:\n",
    "            print('No solution found.')\n",
    "\n",
    "    print_solution()\n",
    "    # Only works for continuous variables\n",
    "    # ConstraintStatus = pd.DataFrame(columns=['Name', 'Dual'])\n",
    "    # for i, constraint in enumerate(solver.constraints()):\n",
    "    #     ConstraintStatus.loc[i] = [constraint.name(), constraint.dual_value()]\n",
    "    # print(ConstraintStatus)\n"
   ]
  },
  {
   "cell_type": "code",
   "execution_count": 3,
   "metadata": {},
   "outputs": [],
   "source": [
    "costs = [[90, 80, 75, 70],\n",
    "        [35, 85, 55, 65],\n",
    "        [125, 95, 90, 95],\n",
    "        [45, 110, 95, 115]]\n",
    "\n"
   ]
  },
  {
   "cell_type": "code",
   "execution_count": 4,
   "metadata": {},
   "outputs": [
    {
     "name": "stdout",
     "output_type": "stream",
     "text": [
      "Total cost = 265.0\n",
      "--------------\n",
      "Worker 0 assigned to task 3. Cost: 70\n",
      "Worker 1 assigned to task 2. Cost: 55\n",
      "Worker 2 assigned to task 1. Cost: 95\n",
      "Worker 3 assigned to task 0. Cost: 45\n",
      "--------------\n",
      "Solved in 31 milliseconds\n",
      "Solved in 7 iterations\n",
      "Solved in 1 branch-and-bound nodes\n"
     ]
    }
   ],
   "source": [
    "assignment_problem(costs) "
   ]
  }
 ],
 "metadata": {
  "kernelspec": {
   "display_name": "Python 3.10.4 64-bit",
   "language": "python",
   "name": "python3"
  },
  "language_info": {
   "codemirror_mode": {
    "name": "ipython",
    "version": 3
   },
   "file_extension": ".py",
   "mimetype": "text/x-python",
   "name": "python",
   "nbconvert_exporter": "python",
   "pygments_lexer": "ipython3",
   "version": "3.10.6"
  },
  "orig_nbformat": 4,
  "vscode": {
   "interpreter": {
    "hash": "916dbcbb3f70747c44a77c7bcd40155683ae19c65e1c03b4aa3499c5328201f1"
   }
  }
 },
 "nbformat": 4,
 "nbformat_minor": 2
}
